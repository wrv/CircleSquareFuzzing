{
 "cells": [
  {
   "cell_type": "markdown",
   "metadata": {},
   "source": [
    "We will be trying to fuzz [ImageMagick 6.5.4-10](http://www.imagemagick.org/download/releases/ImageMagick-6.5.4-10.tar.xz) using AFL. I don't have a tutorial for this but will be trying to follow the similar techniques used for the [LibreSSL Tutorial](https://necurity.co.uk/netsec/2015/03/30/Fun-With-AFL.html). \n",
    "\n",
    "Potential vulnerabilities I am hoping to find include any above the version 6.5.4-10 [changelog](http://www.imagemagick.org/script/changelog.php). Search for \n",
    "> 2009-08-06 6.5.4-10 Cristy <quetzlzacatenango@image...>\n",
    "\n",
    "in order to find the changes.\n",
    "\n",
    "\n",
    "To start it off I go to the directory in terminal configure ImageMagick to use the afl-gcc compiler\n",
    "\n",
    ">  **wrv@comp>** *CC=../afl-gcc ./configure*\n",
    "\n",
    "So that works well but at *make* I seem to have an error\n",
    "\n",
    "> magick/blob.c:2678:13: error: ‘FILE’ has no member named ‘have’\n",
    "\n",
    ">           c=gzgetc(image->blob->file);\n",
    "\n",
    ">             ^\n",
    "\n",
    ">magick/blob.c:2678:13: error: ‘FILE’ has no member named ‘have’\n",
    "\n",
    ">           c=gzgetc(image->blob->file);\n",
    "\n",
    ">             ^\n",
    "\n",
    ">magick/blob.c:2678:13: error: ‘FILE’ has no member named ‘pos’\n",
    "\n",
    ">           c=gzgetc(image->blob->file);\n",
    "\n",
    ">             ^\n",
    "\n",
    ">magick/blob.c:2678:13: error: ‘FILE’ has no member named ‘next’\n",
    "\n",
    ">           c=gzgetc(image->blob->file);\n",
    "\n",
    "\n",
    "According to [this article](http://www.imagemagick.org/discourse-server/viewtopic.php?t=20757) it deals with an updated version of zlib. Because I do not want to reduce the version I have on my own computer I will switch all my work over to a VM."
   ]
  },
  {
   "cell_type": "markdown",
   "metadata": {
    "collapsed": true
   },
   "source": [
    "**July 16th, 2015** We have successfully set up a VM that will be soleley dedicated to fuzzing. After getting it up and running with afl, we are able to make ImageMagick. The process:\n",
    "\n",
    "> make distclean\n",
    "\n",
    "> CC=/home/wrv/afl-1.83b/afl-gcc ./configure --disable-shared\n",
    "\n",
    "> make\n",
    "\n",
    "And then switched over to the utilities directory and got some example trouble images for newer versions of ImageMagick from the [afl demo page](http://lcamtuf.coredump.cx/afl/demo/)\n",
    "\n",
    "> wget http://lcamtuf.coredump.cx/afl/demo/afl_testcases.tgz\n",
    "\n",
    "> tar xvf afl_testcases.tgz\n",
    "\n",
    "Then we run the following command and let afl-fuzz works its magic\n",
    "\n",
    "> ../../afl-fuzz -i gif/full/images/ -o outimage -- ./convert @@ @@.png\n"
   ]
  },
  {
   "cell_type": "code",
   "execution_count": null,
   "metadata": {
    "collapsed": true
   },
   "outputs": [],
   "source": [
    " "
   ]
  }
 ],
 "metadata": {
  "kernelspec": {
   "display_name": "Python 2",
   "language": "python",
   "name": "python2"
  },
  "language_info": {
   "codemirror_mode": {
    "name": "ipython",
    "version": 2
   },
   "file_extension": ".py",
   "mimetype": "text/x-python",
   "name": "python",
   "nbconvert_exporter": "python",
   "pygments_lexer": "ipython2",
   "version": "2.7"
  }
 },
 "nbformat": 4,
 "nbformat_minor": 0
}
