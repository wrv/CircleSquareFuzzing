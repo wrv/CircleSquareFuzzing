{
 "cells": [
  {
   "cell_type": "markdown",
   "metadata": {},
   "source": [
    "We will be testing our [AFL fuzzer](http://lcamtuf.coredump.cx/afl/) on LibreSSL 2.1.6. The link to the tutorial I am following can be found [here](https://necurity.co.uk/netsec/2015/03/30/Fun-With-AFL.html)."
   ]
  },
  {
   "cell_type": "markdown",
   "metadata": {},
   "source": [
    "Going through the tutorial I encountered some issues. Since my account is not root, I decided to install LibreSSL to **_~/testing/_** instead of the specified account.\n",
    "\n",
    "In setting up the library path for LD_LIBRARY_PATH, you must use the full path, and not the **_~_** shortcut for home. \n",
    "\n",
    "> **_export LD_LIBRARY_PATH=\"/home/willy/testing/usr/local/lib\"_**\n",
    "\n",
    "When I ran \n",
    "\n",
    "> **_~/testing/usr/local/bin/openssl req -x509 -nodes -days 365 -newkey rsa:512 -keyout privateKey.key -out certificate.crt -out CSR.csr_**\n",
    "\n",
    "a certificate.crt file was not created. In order to create it I ran\n",
    "\n",
    "> **_~/testing/usr/local/bin/openssl req -key privateKey.key -new -x509 -days 365 -out certificate.crt _**\n",
    "\n",
    "Then, after making the directories in the tutorial, I moved each filetype to its respective folder for scanning."
   ]
  },
  {
   "cell_type": "code",
   "execution_count": 1,
   "metadata": {
    "collapsed": false
   },
   "outputs": [
    {
     "name": "stdout",
     "output_type": "stream",
     "text": [
      "\u001b[0;36mafl-fuzz \u001b[1;37m1.83b\u001b[0m by <lcamtuf@google.com>\r\n",
      "\r\n",
      "\u001b[1;31m[-] \u001b[0mOops, your terminal window seems to be smaller than 80 x 25 characters.\r\n",
      "    That's not enough for afl-fuzz to correctly draw its fancy ANSI UI!\r\n",
      "\r\n",
      "    Depending on the terminal software you are using, you should be able to\r\n",
      "    resize the window by dragging its edges, or to adjust the dimensions in\r\n",
      "    the settings menu.\r\n",
      "\u000f\u001b)B\u001b[?25h\u001b[1;31m\r\n",
      "[-] PROGRAM ABORT : \u001b[1;37mPlease resize terminal to 80x25 or more\u001b[1;31m\r\n",
      "         Location : \u001b[0mcheck_terminal(), afl-fuzz.c:6626\r\n",
      "\r\n"
     ]
    }
   ],
   "source": [
    "!../afl-fuzz -i inkey -o outkey -- ~/testing/usr/local/bin/openssl x509 -in @@ -text -noout"
   ]
  },
  {
   "cell_type": "markdown",
   "metadata": {},
   "source": [
    "Since the above code doesn't work in here, I will simply copy and paste the results into here"
   ]
  },
  {
   "cell_type": "markdown",
   "metadata": {},
   "source": [
    "Note that when attempting to run afl-fuzz we may encounter the following error:\n",
    "\n",
    "[+] You have 4 CPU cores and 3 runnable tasks (utilization: 75%).\n",
    "[+] Try parallel jobs - see /usr/local/share/doc/afl/parallel_fuzzing.txt.\n",
    "[*] Checking core_pattern...\n",
    "[*] Checking CPU scaling governor...\n",
    "\n",
    "[-] Whoops, your system uses on-demand CPU frequency scaling, adjusted\n",
    "    between 781 and 2344 MHz. Unfortunately, the scaling algorithm in the\n",
    "    kernel is imperfect and can miss the short-lived processes spawned by\n",
    "    afl-fuzz. To keep things moving, run these commands as root:\n",
    "\n",
    "    cd /sys/devices/system/cpu\n",
    "    echo performance | tee cpu*/cpufreq/scaling_governor\n",
    "\n",
    "    You can later go back to the original state by replacing 'performance' with\n",
    "    'ondemand'. If you don't want to change the settings, set AFL_SKIP_CPUFREQ\n",
    "    to make afl-fuzz skip this check - but expect some performance drop.\n",
    "\n",
    "[-] PROGRAM ABORT : Suboptimal CPU scaling governor\n",
    "         Location : check_cpu_governor(), afl-fuzz.c:6925\n",
    "\n",
    "To avoid this we simply run the given commands, using sudo for the tee command"
   ]
  },
  {
   "cell_type": "markdown",
   "metadata": {},
   "source": [
    "So after letting it run all night on privatekeys nothing was found:\n",
    "\n",
    "\n",
    ">                       american fuzzy lop 1.83b (openssl)\n",
    ">\n",
    ">┌─ process timing ─────────────────────────────────────┬─ overall results ─────┐\n",
    "\n",
    ">│        run time : 0 days, 9 hrs, 13 min, 39 sec      │  cycles done : 2      │\n",
    "\n",
    ">│   last new path : 0 days, 0 hrs, 4 min, 28 sec       │  total paths : 512    │\n",
    "\n",
    ">│ last uniq crash : none seen yet                      │ uniq crashes : 0      │\n",
    "\n",
    ">│  last uniq hang : none seen yet                      │   uniq hangs : 0      │\n",
    "\n",
    ">├─ cycle progress ────────────────────┬─ map coverage ─┴───────────────────────┤\n",
    "\n",
    ">│  now processing : 4* (0.78%)        │    map density : 2651 (4.05%)          │\n",
    "\n",
    ">│ paths timed out : 0 (0.00%)         │ count coverage : 1.49 bits/tuple       │\n",
    "\n",
    ">├─ stage progress ────────────────────┼─ findings in depth ────────────────────┤\n",
    "\n",
    ">│  now trying : havoc                 │ favored paths : 88 (17.19%)            │\n",
    "\n",
    ">│ stage execs : 4732/5000 (94.64%)    │  new edges on : 137 (26.76%)           │\n",
    "\n",
    ">│ total execs : 4.97M                 │ total crashes : 0 (0 unique)           │\n",
    "\n",
    ">│  exec speed : 149.8/sec             │   total hangs : 0 (0 unique)           │\n",
    "\n",
    ">├─ fuzzing strategy yields ───────────┴───────────────┬─ path geometry ────────┤\n",
    "\n",
    ">│   bit flips : 3/138k, 4/138k, 4/138k                │    levels : 5          │\n",
    "\n",
    ">│  byte flips : 0/17.3k, 1/14.6k, 3/14.5k             │   pending : 395        │\n",
    "\n",
    ">│ arithmetics : 5/816k, 0/88.1k, 0/9735               │  pend fav : 0          │\n",
    "\n",
    ">│  known ints : 0/87.7k, 0/401k, 6/635k               │ own finds : 179        │\n",
    "\n",
    ">│  dictionary : 0/0, 0/0, 4/42.5k                     │  imported : n/a        │\n",
    "\n",
    ">│       havoc : 151/2.40M, 0/0                        │  variable : 0          │\n",
    "\n",
    ">│        trim : 52.20%/10.7k, 14.91%                  ├────────────────────────┘\n",
    "\n",
    ">^C────────────────────────────────────────────────────┘             [cpu: 38%]\n"
   ]
  },
  {
   "cell_type": "markdown",
   "metadata": {
    "collapsed": true
   },
   "source": [
    "So at first I thought I could only work with secret keys, but it turns out for each terminal we have to run\n",
    "\n",
    "> **_export LD_LIBRARY_PATH=\"/home/willy/testing/usr/local/lib\"_**\n",
    "\n",
    "in order to get LibreSSL working correctly"
   ]
  },
  {
   "cell_type": "markdown",
   "metadata": {},
   "source": [
    "At the moment, Thursday July 2nd, 2015 at 11:33pm CST, I am rerunning LibreSSL on keys, but also on certificates and csr files. Considering they website I'm following claims they've run it for two to three days we'll see if I can find anything interesting in a few hours. I'm considering creating some cloud instance in order to outsource the computation.\n",
    "\n",
    "I think I will continue with LibreSSL. I will try to fuzz as much as I can and compare that to the change logs for each version."
   ]
  },
  {
   "cell_type": "code",
   "execution_count": null,
   "metadata": {
    "collapsed": true
   },
   "outputs": [],
   "source": []
  }
 ],
 "metadata": {
  "kernelspec": {
   "display_name": "Python 2",
   "language": "python",
   "name": "python2"
  },
  "language_info": {
   "codemirror_mode": {
    "name": "ipython",
    "version": 2
   },
   "file_extension": ".py",
   "mimetype": "text/x-python",
   "name": "python",
   "nbconvert_exporter": "python",
   "pygments_lexer": "ipython2",
   "version": "2.7"
  }
 },
 "nbformat": 4,
 "nbformat_minor": 0
}
